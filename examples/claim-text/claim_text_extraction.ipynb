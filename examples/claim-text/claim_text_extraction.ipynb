{
 "cells": [
  {
   "cell_type": "markdown",
   "metadata": {
    "colab_type": "text",
    "id": "JauRGGMcuRFp"
   },
   "source": [
    "# Calculating Claim Statistics for a Subset of Patents using the Google Patents Public Datasets on BigQuery.\n",
    "\n",
    "-----------------\n",
    "\n",
    "Copyright 2017 Google Inc.\n",
    "\n",
    "Licensed under the Apache License, Version 2.0 (the \"License\");\n",
    "you may not use this file except in compliance with the License.\n",
    "You may obtain a copy of the License at\n",
    "\n",
    "     http://www.apache.org/licenses/LICENSE-2.0\n",
    "     \n",
    "Unless required by applicable law or agreed to in writing, software\n",
    "distributed under the License is distributed on an \"AS IS\" BASIS,\n",
    "WITHOUT WARRANTIES OR CONDITIONS OF ANY KIND, either express or implied.\n",
    "See the License for the specific language governing permissions and\n",
    "limitations under the License.\n",
    "\n",
    "\n",
    "## Overview\n",
    "\n",
    "Imagine you're analyzing a subset of patents and want to do some text analysis of the first independent claim. To do this, you'd need to be able to join your list of patent publication numbers with a dataset containing the patent text. Additionally, you'd need a method to extract the first claim from the rest of the claims. This notebook is a demonstration of one method to perform this analysis using python, BigQuery, and Google's [new public dataset on patents](https://cloud.google.com/bigquery/public-data/google-patents). \n",
    "\n",
    "What follows is a walkthrough of how to extract the first claim from a set of US Patent publications and run a few summary statistics against the first claim. The set of patents we analyze in this notebook is a random sample of 20,000 patents filed between 1995 and present in the G06F Cooperative Patent Classification (CPC) code, however this analysis could be repeated for any arbitrary list of patents of interest. \n",
    "\n",
    "The steps we'll use to get there are:\n",
    "1. Create a new BigQuery \"dataset\" where we can store our results. For anyone new to bigquery, check out [the quickstart guide](https://cloud.google.com/bigquery/quickstart-web-ui).\n",
    "2. Upload a list of patent publications we wish to analyze.\n",
    "3. Join this list with Google's public patent data.\n",
    "4. Extract the first claim using regular expressions and BigQuery User Defined Functions.\n",
    "5. Calculate summary statistics about the first claims and plot results over time.\n",
    "\n",
    "\n",
    "## Pre-requisites\n",
    "- A google cloud account with access to BigQuery. If you don't have an account yet, [this page](https://cloud.google.com/free/) will guide you through the process to get started with an account and access the free tier of services.\n",
    "- Basic knowledge of how to run a query using the BigQuery web UI. If you're new to this, check out [this page](https://cloud.google.com/bigquery/public-data/) for a quick intro.\n",
    "- Basic knowledge of [pandas dataframes](https://pandas.pydata.org/pandas-docs/stable/10min.html) and python programming.\n",
    "- A few python packages (pandas, seaborn, matplotlib and google-api-python-client."
   ]
  },
  {
   "cell_type": "code",
   "execution_count": 0,
   "metadata": {
    "colab": {
     "autoexec": {
      "startup": false,
      "wait_interval": 0
     }
    },
    "colab_type": "code",
    "id": "c0B6XHMxLL-1"
   },
   "outputs": [],
   "source": [
    "from __future__ import print_function\n",
    "from google.cloud import bigquery\n",
    "import pandas as pd\n",
    "import matplotlib.pylab as plt\n",
    "from oauth2client.client import GoogleCredentials\n",
    "from googleapiclient import discovery\n",
    "import uuid\n",
    "import time\n",
    "# Variables to be used throughout the notebook, replace with your project\n",
    "# and desired dataset name.\n",
    "PROJECT_ID = 'my_project_name'\n",
    "DEST_DATASET = 'claims_analysis'\n",
    "\n",
    "# Create a python client we can use for executing table creation queries\n",
    "client = bigquery.Client(project=PROJECT_ID)\n",
    "# Create an HTTP client for additional functionality.\n",
    "credentials = GoogleCredentials.get_application_default()\n",
    "http_client = discovery.build('bigquery', 'v2', credentials=credentials)"
   ]
  },
  {
   "cell_type": "code",
   "execution_count": 0,
   "metadata": {
    "colab": {
     "autoexec": {
      "startup": false,
      "wait_interval": 0
     }
    },
    "colab_type": "code",
    "id": "zi0TklMYruFa"
   },
   "outputs": [],
   "source": [
    "%matplotlib inline"
   ]
  },
  {
   "cell_type": "markdown",
   "metadata": {
    "colab_type": "text",
    "id": "VwfbSIJ4x9Wz"
   },
   "source": [
    "## 1. Create a new BigQuery Dataset\n",
    "\n",
    "During this analysis, we're going to be leveraging BigQuery to do most of the computation and we'll store our results in tables in BigQuery. To organize this, we'll need a new dataset to work with. We'll use the API to create a new dataset. For more on working with the BigQuery python client library, see [this page](https://cloud.google.com/bigquery/docs/reference/libraries#client-libraries-install-python)."
   ]
  },
  {
   "cell_type": "code",
   "execution_count": 0,
   "metadata": {
    "colab": {
     "autoexec": {
      "startup": false,
      "wait_interval": 0
     }
    },
    "colab_type": "code",
    "id": "2PiBJLHr1Xg5"
   },
   "outputs": [],
   "source": [
    "dataset_ref = client.dataset(DEST_DATASET)\n",
    "dataset = bigquery.Dataset(dataset_ref)\n",
    "client.create_dataset(dataset)\n",
    "print('Dataset {} created.'.format(dataset.dataset_id))"
   ]
  },
  {
   "cell_type": "markdown",
   "metadata": {
    "colab_type": "text",
    "id": "7tjE7bA_zPF8"
   },
   "source": [
    "## 2. Upload a list of Publication Numbers for analysis\n",
    "\n",
    " In this hypothetical example, we are planning to inspect the first claims from a set of patents. To do this, we need to get our list of publication numbers into BigQuery. Since this is just an example, we're going to use a random sample of 20k G06F patents we have saved to a CSV file and added to this repo, but this could be any set of patents you're interested in. We'll leverage [pandas \"to_gbq\" method](\"https://pandas.pydata.org/pandas-docs/stable/generated/pandas.DataFrame.to_gbq.html\") to simplify this. (Note, you could also do this from the [web UI or API.](\"https://cloud.google.com/bigquery/loading-data\") )\n",
    "\n",
    "\n",
    "The steps we need to complete are:\n",
    "\n",
    "1. Load a csv containing publication numbers.\n",
    "2. Store these records in a new table in our BigQuery dataset. "
   ]
  },
  {
   "cell_type": "code",
   "execution_count": 0,
   "metadata": {
    "colab": {
     "autoexec": {
      "startup": false,
      "wait_interval": 0
     },
     "height": 204,
     "output_extras": [
      {}
     ]
    },
    "colab_type": "code",
    "executionInfo": {
     "elapsed": 69,
     "status": "ok",
     "timestamp": 1507998113674,
     "user": {
      "displayName": "",
      "photoUrl": "",
      "userId": ""
     },
     "user_tz": 420
    },
    "id": "ApWHuYh4wvoe",
    "outputId": "bcb5dd2a-02c4-4787-eccd-215edeb5754a"
   },
   "outputs": [
    {
     "data": {
      "text/html": [
       "<div>\n",
       "<style>\n",
       "    .dataframe thead tr:only-child th {\n",
       "        text-align: right;\n",
       "    }\n",
       "\n",
       "    .dataframe thead th {\n",
       "        text-align: left;\n",
       "    }\n",
       "\n",
       "    .dataframe tbody tr th {\n",
       "        vertical-align: top;\n",
       "    }\n",
       "</style>\n",
       "<table border=\"1\" class=\"dataframe\">\n",
       "  <thead>\n",
       "    <tr style=\"text-align: right;\">\n",
       "      <th></th>\n",
       "      <th>publication_number</th>\n",
       "    </tr>\n",
       "  </thead>\n",
       "  <tbody>\n",
       "    <tr>\n",
       "      <th>0</th>\n",
       "      <td>US-2004088502-A1</td>\n",
       "    </tr>\n",
       "    <tr>\n",
       "      <th>1</th>\n",
       "      <td>US-2008085107-A1</td>\n",
       "    </tr>\n",
       "    <tr>\n",
       "      <th>2</th>\n",
       "      <td>US-2002021306-A1</td>\n",
       "    </tr>\n",
       "    <tr>\n",
       "      <th>3</th>\n",
       "      <td>US-9104683-B2</td>\n",
       "    </tr>\n",
       "    <tr>\n",
       "      <th>4</th>\n",
       "      <td>US-2002097416-A1</td>\n",
       "    </tr>\n",
       "  </tbody>\n",
       "</table>\n",
       "</div>"
      ],
      "text/plain": [
       "  publication_number\n",
       "0   US-2004088502-A1\n",
       "1   US-2008085107-A1\n",
       "2   US-2002021306-A1\n",
       "3      US-9104683-B2\n",
       "4   US-2002097416-A1"
      ]
     },
     "execution_count": 9,
     "metadata": {
      "tags": []
     },
     "output_type": "execute_result"
    }
   ],
   "source": [
    "# Load a list of patents from disk\n",
    "df = pd.read_csv('./data/20k_G_and_H_publication_numbers.csv')\n",
    "df.head(5)"
   ]
  },
  {
   "cell_type": "code",
   "execution_count": 0,
   "metadata": {
    "colab": {
     "autoexec": {
      "startup": false,
      "wait_interval": 0
     },
     "height": 136,
     "output_extras": [
      {}
     ]
    },
    "colab_type": "code",
    "executionInfo": {
     "elapsed": 12763,
     "status": "ok",
     "timestamp": 1507998126822,
     "user": {
      "displayName": "",
      "photoUrl": "",
      "userId": ""
     },
     "user_tz": 420
    },
    "id": "AQcMjslNx-pX",
    "outputId": "961470da-1a84-4dba-afda-63245871d173"
   },
   "outputs": [
    {
     "name": "stdout",
     "output_type": "stream",
     "text": [
      "\n",
      "\n",
      "\n",
      "Streaming Insert is 50.0% Complete\n",
      "Streaming Insert is 100.0% Complete\n",
      "\n",
      "\n"
     ]
    }
   ],
   "source": [
    "# Upload these to our dataset on BigQuery.\n",
    "pubs_table = 'claim_text_publications'\n",
    "full_table_path = '{}.{}'.format(DEST_DATASET, pubs_table)\n",
    "df.to_gbq(destination_table=full_table_path,\n",
    "          project_id=PROJECT_ID,\n",
    "          if_exists='replace')"
   ]
  },
  {
   "cell_type": "markdown",
   "metadata": {
    "colab_type": "text",
    "id": "Se437ShOx_SC"
   },
   "source": [
    "## 3. Join our uploaded list of publications with the patents-public-data on BigQuery to get the text of the claims, priority year, and classification code at the 4 digit level. \n",
    "\n",
    "In the next section, we'll begin using the public patent data which is available on Big Query. Among numerous other fields, this table includes the text of the patent claims, the CPC code, and priority date of the patent claims. Because BigQuery doesn't have a \"create table as\" syntax, we've created a function to handle constuction of a call to the BigQuery python API. This is simply a helper function, which takes a query and produces a table. This can also easily by done [using the web UI](https://cloud.google.com/bigquery/docs/tables).\n",
    "\n",
    "The steps to be completed are:\n",
    "\n",
    "1. Write a query which produces a 4 column table: publication number, priority year, CPC code (split at 4 digits), and the full text of the claims. \n",
    "2. Run this query, and write the results to a table in our project/dataset."
   ]
  },
  {
   "cell_type": "code",
   "execution_count": 0,
   "metadata": {
    "colab": {
     "autoexec": {
      "startup": false,
      "wait_interval": 0
     }
    },
    "colab_type": "code",
    "id": "vGRcbw5tf2tn"
   },
   "outputs": [],
   "source": [
    "def create_table_as(query_string, dest_table, project_id=PROJECT_ID, dest_dataset=DEST_DATASET,\n",
    "                    http_client=http_client, overwrite=True, use_legacy_sql=False):\n",
    "  \"\"\"Simulates a 'create table as' statement in BigQuery.\n",
    "\n",
    "  Args:\n",
    "    query_string: A string query that produces rows of data.\n",
    "    dest_table: string table name to use for storing results.\n",
    "    project_id: string project id to use for running query and storing results.\n",
    "    dest_dataset: String name of dataset to use for storing results.\n",
    "    http_client: An http client for use in inserting the BigQuery Job.\n",
    "    overwrite: Should new data be appended to existing data or overwritten?\n",
    "    use_legacy_sql: Defaults to standard_sql, but option to use legacy.\n",
    "\n",
    "  Raises:\n",
    "    Exception: If the BigQuery job finshes with an error, a general Exception is raised\n",
    "    with the error message from BigQuery included.\n",
    "  \"\"\"\n",
    "  write_disposition = 'WRITE_TRUNCATE'\n",
    "  if not overwrite:\n",
    "    write_disposition = 'WRITE_APPEND'\n",
    "  config = {\n",
    "      'kind': 'bigquery#job',\n",
    "      'projectId': str(uuid.uuid4()),\n",
    "      'configuration': {\n",
    "          'query': {\n",
    "              'query': query_string,\n",
    "              'destinationTable': {\n",
    "                  'projectId': project_id,\n",
    "                  'datasetId': dest_dataset,\n",
    "                  'tableId': dest_table\n",
    "              },\n",
    "              'createDisposition': 'CREATE_IF_NEEDED',\n",
    "              'writeDisposition': write_disposition,\n",
    "              'useLegacySql': use_legacy_sql\n",
    "          }\n",
    "      }\n",
    "  }\n",
    "  done = False\n",
    "  request = http_client.jobs().insert(\n",
    "      projectId=project_id, body=config).execute()\n",
    "  job_id = request['jobReference']['jobId']\n",
    "  while not done:\n",
    "    jobs = http_client.jobs().list(projectId=project_id).execute()\n",
    "    matches = [j for j in jobs['jobs'] if j['jobReference']['jobId'] == job_id]\n",
    "    if matches[0]['state'] == 'DONE':\n",
    "      if matches[0].get('errorResult'):\n",
    "        raise Exception(\n",
    "            'Create table failed: {}'.format(matches[0]['errorResult']))\n",
    "      done = True\n",
    "    print('Job still running...')\n",
    "    time.sleep(5)\n",
    "\n",
    "  print('Created table {}.'.format(dest_table))"
   ]
  },
  {
   "cell_type": "code",
   "execution_count": 0,
   "metadata": {
    "colab": {
     "autoexec": {
      "startup": false,
      "wait_interval": 0
     },
     "height": 34,
     "output_extras": [
      {}
     ]
    },
    "colab_type": "code",
    "executionInfo": {
     "elapsed": 25772,
     "status": "ok",
     "timestamp": 1508001708448,
     "user": {
      "displayName": "",
      "photoUrl": "",
      "userId": ""
     },
     "user_tz": 420
    },
    "id": "mzvO9y-JXtfH",
    "outputId": "358a985b-f0c1-44dc-8a01-9a145012812d"
   },
   "outputs": [
    {
     "name": "stdout",
     "output_type": "stream",
     "text": [
      "Job still running...\n",
      "Job still running...\n",
      "Job still running...\n",
      "Job still running...\n",
      "Job still running...\n",
      "Created table 20k_G06F_pubs_after_1994.\n"
     ]
    }
   ],
   "source": [
    "query = \"\"\"\n",
    "#standardSQL\n",
    "\n",
    "WITH P AS (\n",
    "  SELECT \n",
    "  DISTINCT publication_number, \n",
    "  substr(cpc.code, 1,4) cpc4,\n",
    "  floor(priority_date / 10000) priority_yr\n",
    "  FROM `patents-public-data.patents.publications`,\n",
    "  unnest(cpc) as cpc\n",
    "  WHERE substr(cpc.code, 1,4) = 'G06F'\n",
    "  AND floor(priority_date / 10000) >= 1995\n",
    "  AND country_code = 'US'\n",
    ")\n",
    "\n",
    "SELECT \n",
    "P.publication_number,\n",
    "P.priority_yr,\n",
    "P.cpc4,\n",
    "claims.text\n",
    "FROM `patents-public-data.patents.publications` as pubs,\n",
    "UNNEST(claims_localized) as claims\n",
    "JOIN P \n",
    "  ON P.publication_number = pubs.publication_number\n",
    "JOIN `{}.{}.{}` my_pubs\n",
    "  ON pubs.publication_number = my_pubs.publication_number\n",
    "WHERE claims.language = 'en'\n",
    "\"\"\".format(PROJECT_ID, DEST_DATASET, pubs_table)\n",
    "create_table_as(query, '20k_G06F_pubs_after_1994')"
   ]
  },
  {
   "cell_type": "markdown",
   "metadata": {
    "colab_type": "text",
    "id": "WNA1pcjMSf9Q"
   },
   "source": [
    "### Lets inspect the contents of this new table we've created\n",
    "\n",
    "We've now written these results to a table, lets take a look at the output. First, we'll pull down a random sample of 500 rows using a BigQuery trick for selecting a random sample (see below). We'll get the data with a handy pandas function, [\"read_gbq\"](https://pandas.pydata.org/pandas-docs/stable/generated/pandas.read_gbq.html). Once we get the data in memory, let's look at the distribution of priority years and inspect a few example claims. \n",
    "\n",
    "\n",
    "- To get a random sample of roughly n_rows, we can simply include a statement in our where clause that looks like:\n",
    "\n",
    "   ```\n",
    "   where rand() < n_rows / total_rows_in_table```\n",
    "\n",
    "- Since we have about 20k rows and we want a sample of about 500, this becomes:\n",
    "  ```\n",
    "  where rand() < 500 / 20000```"
   ]
  },
  {
   "cell_type": "code",
   "execution_count": 0,
   "metadata": {
    "colab": {
     "autoexec": {
      "startup": false,
      "wait_interval": 0
     }
    },
    "colab_type": "code",
    "id": "a9IUkEPpSfJ2"
   },
   "outputs": [],
   "source": [
    "query = \"\"\"\n",
    "SELECT *\n",
    "FROM `{}.{}.20k_G06F_pubs_after_1994`\n",
    "WHERE RAND() < 500/20000 \n",
    "\"\"\".format(PROJECT_ID, DEST_DATASET)\n",
    "df = pd.read_gbq(query, project_id=PROJECT_ID, dialect='standard')"
   ]
  },
  {
   "cell_type": "code",
   "execution_count": 0,
   "metadata": {
    "colab": {
     "autoexec": {
      "startup": false,
      "wait_interval": 0
     },
     "height": 204,
     "output_extras": [
      {}
     ]
    },
    "colab_type": "code",
    "id": "Cd3KlldgXgaX",
    "outputId": "c8d43fbf-611a-478a-8038-605b1233002c"
   },
   "outputs": [
    {
     "data": {
      "text/html": [
       "<div>\n",
       "<style>\n",
       "    .dataframe thead tr:only-child th {\n",
       "        text-align: right;\n",
       "    }\n",
       "\n",
       "    .dataframe thead th {\n",
       "        text-align: left;\n",
       "    }\n",
       "\n",
       "    .dataframe tbody tr th {\n",
       "        vertical-align: top;\n",
       "    }\n",
       "</style>\n",
       "<table border=\"1\" class=\"dataframe\">\n",
       "  <thead>\n",
       "    <tr style=\"text-align: right;\">\n",
       "      <th></th>\n",
       "      <th>publication_number</th>\n",
       "      <th>priority_yr</th>\n",
       "      <th>cpc4</th>\n",
       "      <th>text</th>\n",
       "    </tr>\n",
       "  </thead>\n",
       "  <tbody>\n",
       "    <tr>\n",
       "      <th>0</th>\n",
       "      <td>US-5867718-A</td>\n",
       "      <td>1995.0</td>\n",
       "      <td>G06F</td>\n",
       "      <td>We claim: \\n       \\n       1. A method of pow...</td>\n",
       "    </tr>\n",
       "    <tr>\n",
       "      <th>1</th>\n",
       "      <td>US-6006313-A</td>\n",
       "      <td>1995.0</td>\n",
       "      <td>G06F</td>\n",
       "      <td>What is claimed is: \\n       \\n       1. An el...</td>\n",
       "    </tr>\n",
       "    <tr>\n",
       "      <th>2</th>\n",
       "      <td>US-5774588-A</td>\n",
       "      <td>1995.0</td>\n",
       "      <td>G06F</td>\n",
       "      <td>What is claimed is: \\n       \\n       1. A met...</td>\n",
       "    </tr>\n",
       "    <tr>\n",
       "      <th>3</th>\n",
       "      <td>US-5678063-A</td>\n",
       "      <td>1995.0</td>\n",
       "      <td>G06F</td>\n",
       "      <td>What is claimed is: \\n       \\n       1. An in...</td>\n",
       "    </tr>\n",
       "    <tr>\n",
       "      <th>4</th>\n",
       "      <td>US-5758179-A</td>\n",
       "      <td>1995.0</td>\n",
       "      <td>G06F</td>\n",
       "      <td>I claim: \\n       \\n       1. A match bus oper...</td>\n",
       "    </tr>\n",
       "  </tbody>\n",
       "</table>\n",
       "</div>"
      ],
      "text/plain": [
       "  publication_number  priority_yr  cpc4  \\\n",
       "0       US-5867718-A       1995.0  G06F   \n",
       "1       US-6006313-A       1995.0  G06F   \n",
       "2       US-5774588-A       1995.0  G06F   \n",
       "3       US-5678063-A       1995.0  G06F   \n",
       "4       US-5758179-A       1995.0  G06F   \n",
       "\n",
       "                                                text  \n",
       "0  We claim: \\n       \\n       1. A method of pow...  \n",
       "1  What is claimed is: \\n       \\n       1. An el...  \n",
       "2  What is claimed is: \\n       \\n       1. A met...  \n",
       "3  What is claimed is: \\n       \\n       1. An in...  \n",
       "4  I claim: \\n       \\n       1. A match bus oper...  "
      ]
     },
     "execution_count": 14,
     "metadata": {
      "tags": []
     },
     "output_type": "execute_result"
    }
   ],
   "source": [
    "# Quick visualization of the first 5 rows\n",
    "df.head()"
   ]
  },
  {
   "cell_type": "code",
   "execution_count": 0,
   "metadata": {
    "colab": {
     "autoexec": {
      "startup": false,
      "wait_interval": 0
     },
     "height": 255,
     "output_extras": [
      {}
     ]
    },
    "colab_type": "code",
    "id": "OYCsMQuiP2EI",
    "outputId": "9d9322fa-0931-40f3-d25d-13912a0a390e"
   },
   "outputs": [
    {
     "data": {
      "text/plain": [
       "1995.0    19\n",
       "1996.0    23\n",
       "1997.0    24\n",
       "1998.0    26\n",
       "1999.0    17\n",
       "2000.0    43\n",
       "2001.0    50\n",
       "2002.0    62\n",
       "2003.0    73\n",
       "2012.0    73\n",
       "2013.0    45\n",
       "2014.0    21\n",
       "2015.0     6\n",
       "Name: priority_yr, dtype: int64"
      ]
     },
     "execution_count": 15,
     "metadata": {
      "tags": []
     },
     "output_type": "execute_result"
    }
   ],
   "source": [
    "# Do we have a mix of data from 1995-present?\n",
    "df.priority_yr.value_counts().sort_index()"
   ]
  },
  {
   "cell_type": "code",
   "execution_count": 0,
   "metadata": {
    "colab": {
     "autoexec": {
      "startup": false,
      "wait_interval": 0
     },
     "height": 853,
     "output_extras": [
      {}
     ]
    },
    "colab_type": "code",
    "id": "duW6WWBWTZjZ",
    "outputId": "b5fea699-7640-4696-b9b8-df87589cda68"
   },
   "outputs": [
    {
     "name": "stdout",
     "output_type": "stream",
     "text": [
      "------------------------- \n",
      "\n",
      "EXAMPLE CLAIM: \n",
      "\n",
      " What is claimed is:  \n",
      "       \n",
      "         1 . A method for implementing a distributed file system on a storage area network, comprising: \n",
      " accepting a request at a client to access a file;    performing a lookup in a local cache to determine what physical disk blocks are associated with the request; and    if the lookup cannot be satisfied in the local cache, \n",
      " forwarding the request from the client to a server,  \n",
      " receiving a block map for the file from the server, wherein the block map includes location information specifying physical blocks corresponding to the file, and  \n",
      " using information from the block map to access the file on the storage device directly without going through the server.  \n",
      "   \n",
      "     \n",
      "         \n",
      "         2 . The method of  claim 1 , wherein the block map includes only a portion of the location information for the file.  \n",
      "     \n",
      "         \n",
      "         3 . The method of  claim 2 , wherein if the request to access the file is a read request, the method further comprises prefetching additional portions of the block map as they are needed.  \n",
      "     \n",
      "         \n",
      "         4 . The method of  claim 1 , wherein if the request to access the file is a write request, the method further comprises: \n",
      " causing the server to invalidate outstanding block maps for the file on other clients; and    granting an exclusive block map to the client that initiated the write request.    \n",
      "     \n",
      "         \n",
      "         5 . The method of  claim 4 , further comprising invalidating the exclusive block map prior to accepting a read request for the file.  \n",
      "     \n",
      "         \n",
      "         6 . The method of  claim 1 , wherein an underlying file system includes a UNIX file system.  \n",
      "     \n",
      "         \n",
      "         7 . The method of  claim 6 , wherein the underlying file system does not reorder blocks so that the block map remains correct after the block map has been received from the server.  \n",
      "     \n",
      "         \n",
      "         8 . The method of  claim 1 , wherein if a direct path between the client and the storage device does not exist, the method further comprises sending all requests associated with the storage device from the client through the server to the storage device via an independent port.  \n",
      "     \n",
      "         \n",
      "         9 . A computer-readable storage medium storing instructions that when executed by a computer cause the computer to perform a method for implementing a distributed file system on a storage area network, the method comprising: \n",
      " accepting a request at a client to access a file;    performing a lookup in a local cache to determine what physical disk blocks are associated with the request; and    if the lookup cannot be satisfied in the local cache, \n",
      " forwarding the request from the client to a server,  \n",
      " receiving a block map for the file from the server, wherein the block map includes location information specifying physical blocks corresponding to the file, and  \n",
      " using information from the block map to access the file on the storage device directly without going through the serv\n",
      "------------------------- \n",
      "\n",
      "EXAMPLE CLAIM: \n",
      "\n",
      " What is claimed is: \n",
      "       \n",
      "       1. A method comprising:\n",
      " locating a machine at a fixed location; \n",
      " connecting a scannable code to the machine, the code indicating the fixed location and an application program having a user interface that is displayable on the machine; \n",
      " scanning the code using a portable user device to generate first and second identifiers, the first and second identifiers identifying the fixed location and the application program, respectively; \n",
      " transmitting the first and second identifiers from the portable user device to one or more remotely-located servers; \n",
      " identifying, using the one or more remotely-located servers, the machine and the application program in response to the receipt of the first and second identifiers by the one or more remotely-located servers; \n",
      " transmitting user interface instructions from the one or more remotely-located servers to the machine, the user interface instructions being associated with the display of the user interface on the machine and based on at least the application program and the fixed location of the machine; and \n",
      " displaying the user interface on the machine in accordance with the user interface instructions; \n",
      " wherein the one or more remotely-located servers generate, process, or select the user interface instructions based on at least the fixed location of the machine and cause the user interface to be displayed on the machine in accordance with the user interface instructions; and \n",
      " wherein, in accordance with the user interface instructions, the user interface is displayed on the machine in accordance with the user interface instructions based on at least the fixed location and displays on the machine at least one of the following:\n",
      " a map that indicates the fixed location of the machine; \n",
      " information regarding how to get from the fixed location of the machine to another location; and \n",
      " information regarding the availability of venues and services from, or in the vicinity of, the fixed location of the machine. \n",
      " \n",
      " \n",
      "     \n",
      "         \n",
      "       2. The method of  claim 1 , further comprising:\n",
      " transmitting a third identifier from the portable user device to the one or more remotely-located servers, the third identifier identifying a user profile, the user profile being associated with the portable user device; \n",
      " wherein the user interface instructions are based on at least the application program and the user profile so that the display of the user interface on the machine is customized. \n",
      " \n",
      "     \n",
      "         \n",
      "       3. The method of  claim 1 , wherein the portable user device is selected from the group consisting of a scanner, a reader, and a smartphone; and\n",
      " wherein the machine is selected from the group consisting of a kiosk, a vending machine, and a digital sign. \n",
      " \n",
      "     \n",
      "         \n",
      "       4. A method comprising:\n",
      " receiving, using at least one computer system, a first identifier associated with a fixed location of a machine, and a second identifier associated with an application pro\n"
     ]
    }
   ],
   "source": [
    "# What do the claims look like?\n",
    "for claim in df.sample(2).text:\n",
    "  print('-----' * 5, '\\n\\nEXAMPLE CLAIM: \\n\\n', claim[:3000])"
   ]
  },
  {
   "cell_type": "markdown",
   "metadata": {
    "colab_type": "text",
    "id": "fi7zzimWUvrf"
   },
   "source": [
    "## Extract the First Claims Using A UDF in Big Query\n",
    "\n",
    "Since we have the full claim above, we need a way to parse out just the first claim. BigQuery has [User Defined Functions (UDF's)](https://cloud.google.com/bigquery/docs/reference/standard-sql/user-defined-functions) which let the user pass columns through some arbitrary function. In our case, we need some logic to parse the claims and split after the first claim has ended. In most cases we can simply split on the text \"1.\" but there are also cases where the text is not so cleanly formatted. The UDF below shows and example of using javascript regular expressions to parse the first claim.\n",
    "\n",
    "The basic logic is to work down the following options, returning the first positive match:\n",
    "\n",
    "1. Try to split on '2.' or '2 .'.\n",
    "2. Find the first mention of 'claim 1' and split there.\n",
    "3. Handle canceled claims by finding the word canceled and determining which claim was the first non-canceled claim.\n",
    "4. Look for a sentence beginning with \"The\" - split and return the first half.\n",
    "5. Finally, just return the first 2000 characters. "
   ]
  },
  {
   "cell_type": "code",
   "execution_count": 0,
   "metadata": {
    "colab": {
     "autoexec": {
      "startup": false,
      "wait_interval": 0
     }
    },
    "colab_type": "code",
    "id": "mkdUP1YnXB80"
   },
   "outputs": [],
   "source": [
    "# The JS script to run against the text of our claims.\n",
    "js = r\"\"\"\n",
    "\n",
    "// Regex to find a period followed by any number of spaces and '2.' or '2 .'\n",
    "var pattern = new RegExp(/[.][\\\\s]+[2][\\\\s]*[.]/, 'g');\n",
    "if (pattern.test(text)) {\n",
    "  return text.split(pattern)[0];\n",
    "}\n",
    "\n",
    "// If none of the above worked, try to find a reference to claim 1.\n",
    "if (text.indexOf('claim 1 ') > -1) {\n",
    "  return text.split('claim 1 ')[0];\n",
    "}\n",
    "\n",
    "// Look for claim cancelations and return first non-canceled claim\n",
    "text = text.replace(/canceled/i, 'canceled')\n",
    "text = text.replace(/cancelled/i, 'canceled')\n",
    "if (text.indexOf('(canceled)') > -1) {\n",
    "\ttext = text.split('(canceled)')\n",
    "\tcanceled = text[0];\n",
    "\tnot_canceled = text[1];\n",
    "\t// Determine first non-cancelled claim\n",
    "\tif (canceled.indexOf('-') > -1 ) {\n",
    "\t\tnext_claim = parseInt(canceled.split('-')[1]) + 1\n",
    "\t}\n",
    "\telse {\n",
    "\t\tnext_claim = 2;\n",
    "\t}\n",
    "\t// Split on next_claim + 1\n",
    "\treturn not_canceled.split(next_claim + 1)[0].trim();\n",
    "}\n",
    "\n",
    "\n",
    "// If none of the above worked, try to find a sentence starting with 'The'\n",
    "// This should only happen after claim 1 has been defined.\n",
    "if (text.indexOf(' The ') > -1) {\n",
    "  return text.split(' The ')[0];\n",
    "}\n",
    "\n",
    "// if none of the above worked return the first 2000 characters. \n",
    "return text.slice(0,2000);\n",
    "\"\"\""
   ]
  },
  {
   "cell_type": "code",
   "execution_count": 0,
   "metadata": {
    "colab": {
     "autoexec": {
      "startup": false,
      "wait_interval": 0
     },
     "height": 34,
     "output_extras": [
      {}
     ]
    },
    "colab_type": "code",
    "id": "MPmi80veT-Hb",
    "outputId": "a1ebd566-b047-4be5-a8ed-fd4e6356cbf7"
   },
   "outputs": [
    {
     "name": "stdout",
     "output_type": "stream",
     "text": [
      "Job still running...\n",
      "Job still running...\n",
      "Job still running...\n",
      "Job still running...\n",
      "Created table 20k_G06F_pubs_after_1994_split_first_claim.\n"
     ]
    }
   ],
   "source": [
    "# Insert the JS code above into this string, and pass it to Big Query\n",
    "query = r'''\n",
    "#standardSQL\n",
    "CREATE TEMPORARY FUNCTION get_first_claim(text STRING)\n",
    "RETURNS STRING\n",
    "LANGUAGE js AS \"\"\"\n",
    "{}\n",
    "\"\"\"; \n",
    "\n",
    " \n",
    "SELECT \n",
    "pubs.*, \n",
    "get_first_claim(text) first_claim\n",
    "FROM `{}.{}.20k_G06F_pubs_after_1994` pubs\n",
    "'''.format(js, PROJECT_ID, DEST_DATASET)\n",
    "CLAIM_TEXT_TABLE = '20k_G06F_pubs_after_1994_split_first_claim'\n",
    "create_table_as(query, CLAIM_TEXT_TABLE)"
   ]
  },
  {
   "cell_type": "code",
   "execution_count": 0,
   "metadata": {
    "colab": {
     "autoexec": {
      "startup": false,
      "wait_interval": 0
     }
    },
    "colab_type": "code",
    "id": "iuXBA0XSV9WZ"
   },
   "outputs": [],
   "source": [
    "query = \"\"\"\n",
    "SELECT * FROM `{}.{}.{}` WHERE RAND() < 500/20000 \n",
    "\"\"\".format(PROJECT_ID, DEST_DATASET, CLAIM_TEXT_TABLE)\n",
    "df = pd.read_gbq(query, project_id=PROJECT_ID, dialect='standard')"
   ]
  },
  {
   "cell_type": "markdown",
   "metadata": {
    "colab_type": "text",
    "id": "_r2S3ebcom3l"
   },
   "source": [
    "## Let's See how that UDF Performed\n",
    "\n",
    "One way to test the UDF would be to run a query in bigquery against an example we can test. For example:\n",
    "\n",
    "```SELECT get_first_claim(\"1. test claim 1 2. test claim 2\");```\n",
    "\n",
    "We can also run this claim against real data and pull down a sample, which is shown below. We've now created a new table which has both the full claims text as well as our extracted first claim. Lets compare a few to see how well it worked."
   ]
  },
  {
   "cell_type": "code",
   "execution_count": 0,
   "metadata": {
    "colab": {
     "autoexec": {
      "startup": false,
      "wait_interval": 0
     },
     "height": 1057,
     "output_extras": [
      {}
     ]
    },
    "colab_type": "code",
    "id": "ih6i1H9-WUS6",
    "outputId": "7cda9252-0944-4c67-93c8-bab5fb0dc807"
   },
   "outputs": [
    {
     "name": "stdout",
     "output_type": "stream",
     "text": [
      "------------------------------------------------------------ \n",
      "ORIGINAL CLAIM TEXT:\n",
      " ------------------------------------------------------------\n",
      "1 . A visual display system for a vehicle, comprising: \n",
      " at least one sensor operable to capture images representing scenery outside the vehicle;    a protective housing enclosing the at least one sensor, wherein the protective housing further comprises a transparent aperture through which the at least one sensor captures images;    a cleaning mechanism operable to remove obstructions from the transparent aperture; and    an operator display through which images representing scenery outside the vehicle are displayed.    \n",
      "   \n",
      "       \n",
      "       2 . The visual display system of  claim 1 , wherein the at least one sensor further comprises a camera.  \n",
      "   \n",
      "       \n",
      "       3 . The visual display system of  claim 1 , wherein the transparent aperture further comprises a rotating transparent conical surface, wherein an outer surface of the transparent conical surface is wiped within the protective housing by the cleaning mechanism to remove obstructions from the transparent aperture.  \n",
      "   \n",
      "       \n",
      "       4 . The visual display system of  claim 3 , wherein the cleaning mechanism is located to not obstruct the at least one sensor&#39;s field of view.  \n",
      "   \n",
      "       \n",
      "       5 . The visual display system of  claim 2 , wherein the camera further comprises an infrared camera or low light camera.  \n",
      "   \n",
      "       \n",
      "       6 . The visual display system of  claim 3 , wherein the cleaning mechanism further comprises a mechanical brush that removes obstructions from an outer surface of the transparent aperture.  \n",
      "   \n",
      "       \n",
      "       7 . The visual display system of  claim 3 , wherein the cleaning mechanism further comprises a cleaning fluid applicator that applies cleaning solution to the transparent aperture.  \n",
      "   \n",
      "       \n",
      "       8 . A visual display system for a vehicle, comprising: \n",
      " at least one sensor operable to capture images representing scenery outside the vehicle;    a protective housing enclosing the at least one sensor, wherein the protective housing further comprises a transparent aper \n",
      "\n",
      "------------------------------------------------------------ \n",
      "RESULT AFTER PARSING WITH UDF:\n",
      " ------------------------------------------------------------\n",
      "1 . A visual display system for a vehicle, comprising: \n",
      " at least one sensor operable to capture images representing scenery outside the vehicle;    a protective housing enclosing the at least one sensor, wherein the protective housing further comprises a transparent aperture through which the at least one sensor captures images;    a cleaning mechanism operable to remove obstructions from the transparent aperture; and    an operator display through which images representing scenery outside the vehicle are displayed ...\n",
      "\n",
      "\n",
      "------------------------------------------------------------ \n",
      "ORIGINAL CLAIM TEXT:\n",
      " ------------------------------------------------------------\n",
      "What is claimed is: \n",
      "       \n",
      "       1. An apparatus for user authentication based on proximity to a close network of a user, the apparatus comprising:\n",
      " a memory; \n",
      " a processor; and \n",
      " computer-executable instructions stored in the memory, executable by the processor, and configured to cause the processor to:\n",
      " receive from a user, a request to execute a user action associated with an application, wherein execution of the user action requires validation of one or more authentication credentials; \n",
      " collect a set of data comprising information related to a physical location of the user; \n",
      " determine a close network score associated with the user, comprising:\n",
      " selecting at least one member of a close network of the user; \n",
      " determining a proximity threshold associated with the at least one member and the user; \n",
      " determining whether the at least one member is within the proximity threshold, comprising:\n",
      " determining a location of the apparatus of the user by a GPS application running on the apparatus of the user and a location of an apparatus associated with the at least one member by a GPS application running on the apparatus of the at least one member; \n",
      " calculating a distance between the determined location of the user apparatus and the at least one member apparatus; \n",
      " comparing the calculated distance to the determined proximity threshold; and \n",
      " \n",
      " based at least in part on the determination of whether the at least one member is within the proximity threshold, assigning a close network score; \n",
      " \n",
      " determine a level of authentication associated with the determined close network score; \n",
      " determine which one or more authentication types from a plurality of authentication types are associated with the level of authentication associated with the close network score; \n",
      " request one or more authentication credentials corresponding to the determined one or more authentication types; \n",
      " receive one or more authentication credentials from the user; \n",
      " validate the one or more authentica \n",
      "\n",
      "------------------------------------------------------------ \n",
      "RESULT AFTER PARSING WITH UDF:\n",
      " ------------------------------------------------------------\n",
      "What is claimed is: \n",
      "       \n",
      "       1. An apparatus for user authentication based on proximity to a close network of a user, the apparatus comprising:\n",
      " a memory; \n",
      " a processor; and \n",
      " computer-executable instructions stored in the memory, executable by the processor, and configured to cause the processor to:\n",
      " receive from a user, a request to execute a user action associated with an application, wherein execution of the user action requires validation of one or more authentication credentials; \n",
      " collect a set of data comprising information related to a physical location of the user; \n",
      " determine a close network score associated with the user, comprising:\n",
      " selecting at least one member of a close network of the user; \n",
      " determining a proximity threshold associated with the at least one member and the user; \n",
      " determining whether the at least one member is within the proximity threshold, comprising:\n",
      " determining a location of the apparatus of the user by a GPS application running on the apparatus of the user and a location of an apparatus associated with the at least one member by a GPS application running on the apparatus of the at least one member; \n",
      " calculating a distance between the determined location of the user apparatus and the at least one member apparatus; \n",
      " comparing the calculated distance to the determined proximity threshold; and \n",
      " \n",
      " based at least in part on the determination of whether the at least one member is within the proximity threshold, assigning a close network score; \n",
      " \n",
      " determine a level of authentication associated with the determined close network score; \n",
      " determine which one or more authentication types from a plurality of authentication types are associated with the level of authentication associated with the close network score; \n",
      " request one or more authentication credentials corresponding to the determined one or more authentication types; \n",
      " receive one or more authentication credentials from the user; \n",
      " validate the one or more authentication credentials, thereby resulting in a successful validation of the one or more authentication credentials; and \n",
      " in response to the successful validation of the one or more authentication credentials, execute the user action ...\n",
      "\n",
      "\n"
     ]
    }
   ],
   "source": [
    "for idx, row in df.sample(2).iterrows():\n",
    "  print('------' * 10, '\\nORIGINAL CLAIM TEXT:\\n', '------' * 10)\n",
    "  print(row.text[:2000], '\\n')\n",
    "  print('------' * 10, '\\nRESULT AFTER PARSING WITH UDF:\\n', '------' * 10)\n",
    "  print(row.first_claim, '...\\n\\n')"
   ]
  },
  {
   "cell_type": "markdown",
   "metadata": {
    "colab_type": "text",
    "id": "Vc9rdCOJbjl_"
   },
   "source": [
    "# Lastly, lets use BigQuery to calculate some statistics about the first claim.\n",
    "\n",
    "From the start, the goal here was to compute some summary statistics about claims for a specific set of patents. Namely, we're interested to see if the number of elements, character counts, or word counts have varied over time. \n",
    "\n",
    "-----------------\n",
    "\n",
    "## Average Word Count by Year"
   ]
  },
  {
   "cell_type": "code",
   "execution_count": 0,
   "metadata": {
    "colab": {
     "autoexec": {
      "startup": false,
      "wait_interval": 0
     }
    },
    "colab_type": "code",
    "id": "d3PzmVikX-S3"
   },
   "outputs": [],
   "source": [
    "# Average Word Count by Year:\n",
    "query = r\"\"\"\n",
    "#standardSQL\n",
    "with words as (\n",
    "  SELECT \n",
    "  publication_number,\n",
    "  priority_yr,\n",
    "  SPLIT(REGEXP_REPLACE(first_claim, r'\\s{2,}', ''), ' ') word\n",
    "  FROM `%s.%s.%s`\n",
    ")\n",
    "\n",
    "SELECT \n",
    "  priority_yr, \n",
    "  avg(num_words) avg_word_cnt\n",
    "FROM (\n",
    "  SELECT\n",
    "  publication_number,\n",
    "  priority_yr,\n",
    "  count(*) as num_words\n",
    "  from words, unnest(word)\n",
    "  group by 1,2\n",
    ")\n",
    "GROUP BY 1\n",
    "ORDER BY 1\n",
    "\"\"\" %(PROJECT_ID, DEST_DATASET, CLAIM_TEXT_TABLE)\n",
    "df = pd.read_gbq(query, project_id=PROJECT_ID, dialect='standard')"
   ]
  },
  {
   "cell_type": "code",
   "execution_count": 0,
   "metadata": {
    "colab": {
     "autoexec": {
      "startup": false,
      "wait_interval": 0
     },
     "height": 436,
     "output_extras": [
      {}
     ]
    },
    "colab_type": "code",
    "id": "NHkBWRqngzjM",
    "outputId": "15bf728d-225d-4917-8b4d-cbeb2efa80c6"
   },
   "outputs": [
    {
     "data": {
      "image/png": "[encoded data removed]",
      "text/plain": [
       "<matplotlib.figure.Figure at 0x7fa36f2c0780>"
      ]
     },
     "metadata": {
      "tags": []
     },
     "output_type": "display_data"
    }
   ],
   "source": [
    "plt.figure(figsize=(14, 6))\n",
    "plt.plot(df.priority_yr, df.avg_word_cnt)\n",
    "plt.xlabel('Priority Year', fontsize=14)\n",
    "plt.xlim(1995, 2016)\n",
    "plt.ylabel('Average Word Count')\n",
    "plt.title('Average Word Count for the First Independent Claim of\\nG06F Patents,'\n",
    "          '1995 to present', fontsize=16)\n",
    "plt.show()"
   ]
  },
  {
   "cell_type": "markdown",
   "metadata": {
    "colab_type": "text",
    "id": "lKRTGjmZiDM0"
   },
   "source": [
    "## Average Number of Elements by Year"
   ]
  },
  {
   "cell_type": "code",
   "execution_count": 0,
   "metadata": {
    "colab": {
     "autoexec": {
      "startup": false,
      "wait_interval": 0
     }
    },
    "colab_type": "code",
    "id": "poAFdJOsgz9N"
   },
   "outputs": [],
   "source": [
    "query = \"\"\"\n",
    "#standardSQL\n",
    "with elements as (\n",
    "  SELECT \n",
    "  publication_number,\n",
    "  priority_yr,\n",
    "  SPLIT(first_claim, ';') element\n",
    "  FROM `%s.%s.%s`\n",
    ")\n",
    "\n",
    "SELECT \n",
    "  priority_yr, \n",
    "  avg(num_elements) avg_element_cnt\n",
    "FROM (\n",
    "  SELECT\n",
    "  publication_number,\n",
    "  priority_yr,\n",
    "  count(*) as num_elements\n",
    "  from elements, unnest(element)\n",
    "  group by 1,2\n",
    ")\n",
    "GROUP BY 1\n",
    "ORDER BY 1\n",
    "\"\"\" %(PROJECT_ID, DEST_DATASET, CLAIM_TEXT_TABLE)\n",
    "df = pd.read_gbq(query, project_id=PROJECT_ID, dialect='standard')"
   ]
  },
  {
   "cell_type": "code",
   "execution_count": 0,
   "metadata": {
    "colab": {
     "autoexec": {
      "startup": false,
      "wait_interval": 0
     },
     "height": 436,
     "output_extras": [
      {}
     ]
    },
    "colab_type": "code",
    "id": "MEs6ghPqiIqO",
    "outputId": "a61a594d-7af7-467b-fbc0-7015d2c899f5"
   },
   "outputs": [
    {
     "data": {
      "image/png": "[encoded data removed]",
      "text/plain": [
       "<matplotlib.figure.Figure at 0x7fa37e877908>"
      ]
     },
     "metadata": {
      "tags": []
     },
     "output_type": "display_data"
    }
   ],
   "source": [
    "plt.figure(figsize=(14, 6))\n",
    "plt.plot(df.priority_yr, df.avg_element_cnt, color='g')\n",
    "plt.xlabel('Priority Year', fontsize=14)\n",
    "plt.xlim(1995, 2016)\n",
    "plt.ylabel('Average Element Count')\n",
    "plt.title('Average Element Count for the First Independent Claim of\\n'\n",
    "          'G06F Patents, 1995 to present', fontsize=16)\n",
    "plt.show()"
   ]
  },
  {
   "cell_type": "code",
   "execution_count": 0,
   "metadata": {
    "colab": {
     "autoexec": {
      "startup": false,
      "wait_interval": 0
     }
    },
    "colab_type": "code",
    "id": "KIiFBtagM_-R"
   },
   "outputs": [],
   "source": []
  }
 ],
 "metadata": {
  "colab": {
   "default_view": {},
   "name": "claim_text_extraction.ipynb",
   "provenance": [
    {
     "file_id": "1MJmQRwVytb_QiyBEPFo63yTe7M0G2yAw",
     "timestamp": 1508375805762
    },
    {
     "file_id": "0B7407am0etbdVGVBcGc0VEhyS3c",
     "timestamp": 1508211028553
    },
    {
     "file_id": "0B7407am0etbdU2Z2WE8tMmVuMWs",
     "timestamp": 1508196206156
    },
    {
     "file_id": "0B7407am0etbdeVVaRkpJV29qdnM",
     "timestamp": 1507944482021
    }
   ],
   "version": "0.3.2",
   "views": {}
  },
  "kernelspec": {
   "display_name": "Python [default]",
   "language": "python",
   "name": "python3"
  },
  "language_info": {
   "codemirror_mode": {
    "name": "ipython",
    "version": 3
   },
   "file_extension": ".py",
   "mimetype": "text/x-python",
   "name": "python",
   "nbconvert_exporter": "python",
   "pygments_lexer": "ipython3",
   "version": "3.5.4"
  }
 },
 "nbformat": 4,
 "nbformat_minor": 1
}
